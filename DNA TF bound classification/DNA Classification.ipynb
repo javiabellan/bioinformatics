{
 "cells": [
  {
   "cell_type": "code",
   "execution_count": 4,
   "metadata": {},
   "outputs": [],
   "source": [
    "import numpy   as np\n",
    "import pandas  as pd\n",
    "import sklearn"
   ]
  },
  {
   "cell_type": "code",
   "execution_count": 5,
   "metadata": {},
   "outputs": [
    {
     "name": "stdout",
     "output_type": "stream",
     "text": [
      "\u001b[31mXte0.csv\u001b[m\u001b[m       \u001b[31mXte1_mat50.csv\u001b[m\u001b[m \u001b[31mXtr0.csv\u001b[m\u001b[m       \u001b[31mXtr1_mat50.csv\u001b[m\u001b[m \u001b[31mYtr0.csv\u001b[m\u001b[m\r\n",
      "\u001b[31mXte0_mat50.csv\u001b[m\u001b[m \u001b[31mXte2.csv\u001b[m\u001b[m       \u001b[31mXtr0_mat50.csv\u001b[m\u001b[m \u001b[31mXtr2.csv\u001b[m\u001b[m       \u001b[31mYtr1.csv\u001b[m\u001b[m\r\n",
      "\u001b[31mXte1.csv\u001b[m\u001b[m       \u001b[31mXte2_mat50.csv\u001b[m\u001b[m \u001b[31mXtr1.csv\u001b[m\u001b[m       \u001b[31mXtr2_mat50.csv\u001b[m\u001b[m \u001b[31mYtr2.csv\u001b[m\u001b[m\r\n"
     ]
    }
   ],
   "source": [
    "!ls data"
   ]
  },
  {
   "cell_type": "markdown",
   "metadata": {},
   "source": [
    "## Datset: [Promoter Gene Sequences](https://archive.ics.uci.edu/ml/datasets/Molecular+Biology+(Promoter+Gene+Sequences))"
   ]
  },
  {
   "cell_type": "code",
   "execution_count": 14,
   "metadata": {},
   "outputs": [
    {
     "data": {
      "text/html": [
       "<div>\n",
       "<style scoped>\n",
       "    .dataframe tbody tr th:only-of-type {\n",
       "        vertical-align: middle;\n",
       "    }\n",
       "\n",
       "    .dataframe tbody tr th {\n",
       "        vertical-align: top;\n",
       "    }\n",
       "\n",
       "    .dataframe thead th {\n",
       "        text-align: right;\n",
       "    }\n",
       "</style>\n",
       "<table border=\"1\" class=\"dataframe\">\n",
       "  <thead>\n",
       "    <tr style=\"text-align: right;\">\n",
       "      <th></th>\n",
       "      <th>Class</th>\n",
       "      <th>Sequence</th>\n",
       "    </tr>\n",
       "    <tr>\n",
       "      <th>Id</th>\n",
       "      <th></th>\n",
       "      <th></th>\n",
       "    </tr>\n",
       "  </thead>\n",
       "  <tbody>\n",
       "    <tr>\n",
       "      <th>S10</th>\n",
       "      <td>+</td>\n",
       "      <td>\\t\\ttactagcaatacgcttgcgttcggtggttaagtatgtataat...</td>\n",
       "    </tr>\n",
       "    <tr>\n",
       "      <th>AMPC</th>\n",
       "      <td>+</td>\n",
       "      <td>\\t\\ttgctatcctgacagttgtcacgctgattggtgtcgttacaat...</td>\n",
       "    </tr>\n",
       "    <tr>\n",
       "      <th>AROH</th>\n",
       "      <td>+</td>\n",
       "      <td>\\t\\tgtactagagaactagtgcattagcttatttttttgttatcat...</td>\n",
       "    </tr>\n",
       "    <tr>\n",
       "      <th>DEOP2</th>\n",
       "      <td>+</td>\n",
       "      <td>\\taattgtgatgtgtatcgaagtgtgttgcggagtagatgttagaa...</td>\n",
       "    </tr>\n",
       "    <tr>\n",
       "      <th>LEU1_TRNA</th>\n",
       "      <td>+</td>\n",
       "      <td>\\ttcgataattaactattgacgaaaagctgaaaaccactagaatgc...</td>\n",
       "    </tr>\n",
       "  </tbody>\n",
       "</table>\n",
       "</div>"
      ],
      "text/plain": [
       "          Class                                           Sequence\n",
       "Id                                                                \n",
       "S10           +  \\t\\ttactagcaatacgcttgcgttcggtggttaagtatgtataat...\n",
       "AMPC          +  \\t\\ttgctatcctgacagttgtcacgctgattggtgtcgttacaat...\n",
       "AROH          +  \\t\\tgtactagagaactagtgcattagcttatttttttgttatcat...\n",
       "DEOP2         +  \\taattgtgatgtgtatcgaagtgtgttgcggagtagatgttagaa...\n",
       "LEU1_TRNA     +  \\ttcgataattaactattgacgaaaagctgaaaaccactagaatgc..."
      ]
     },
     "execution_count": 14,
     "metadata": {},
     "output_type": "execute_result"
    }
   ],
   "source": [
    "url = 'https://archive.ics.uci.edu/ml/machine-learning-databases/molecular-biology/promoter-gene-sequences/promoters.data'\n",
    "names = ['Class', 'Id', 'Sequence']\n",
    "data = pd.read_csv(url, names=names)\n",
    "data = data.set_index('Id')\n",
    "data.head()"
   ]
  },
  {
   "cell_type": "markdown",
   "metadata": {},
   "source": [
    "# Clean"
   ]
  },
  {
   "cell_type": "code",
   "execution_count": 21,
   "metadata": {},
   "outputs": [],
   "source": [
    "data.Sequence = data.Sequence.replace(\"\\t\", \"\", regex=True)"
   ]
  },
  {
   "cell_type": "code",
   "execution_count": 26,
   "metadata": {},
   "outputs": [],
   "source": [
    "data[\"SequenceLen\"] = data.Sequence.str.len()"
   ]
  },
  {
   "cell_type": "code",
   "execution_count": 27,
   "metadata": {},
   "outputs": [
    {
     "data": {
      "text/html": [
       "<div>\n",
       "<style scoped>\n",
       "    .dataframe tbody tr th:only-of-type {\n",
       "        vertical-align: middle;\n",
       "    }\n",
       "\n",
       "    .dataframe tbody tr th {\n",
       "        vertical-align: top;\n",
       "    }\n",
       "\n",
       "    .dataframe thead th {\n",
       "        text-align: right;\n",
       "    }\n",
       "</style>\n",
       "<table border=\"1\" class=\"dataframe\">\n",
       "  <thead>\n",
       "    <tr style=\"text-align: right;\">\n",
       "      <th></th>\n",
       "      <th>Class</th>\n",
       "      <th>Sequence</th>\n",
       "      <th>SequenceLen</th>\n",
       "    </tr>\n",
       "    <tr>\n",
       "      <th>Id</th>\n",
       "      <th></th>\n",
       "      <th></th>\n",
       "      <th></th>\n",
       "    </tr>\n",
       "  </thead>\n",
       "  <tbody>\n",
       "    <tr>\n",
       "      <th>S10</th>\n",
       "      <td>+</td>\n",
       "      <td>tactagcaatacgcttgcgttcggtggttaagtatgtataatgcgc...</td>\n",
       "      <td>57</td>\n",
       "    </tr>\n",
       "    <tr>\n",
       "      <th>AMPC</th>\n",
       "      <td>+</td>\n",
       "      <td>tgctatcctgacagttgtcacgctgattggtgtcgttacaatctaa...</td>\n",
       "      <td>57</td>\n",
       "    </tr>\n",
       "    <tr>\n",
       "      <th>AROH</th>\n",
       "      <td>+</td>\n",
       "      <td>gtactagagaactagtgcattagcttatttttttgttatcatgcta...</td>\n",
       "      <td>57</td>\n",
       "    </tr>\n",
       "    <tr>\n",
       "      <th>DEOP2</th>\n",
       "      <td>+</td>\n",
       "      <td>aattgtgatgtgtatcgaagtgtgttgcggagtagatgttagaata...</td>\n",
       "      <td>57</td>\n",
       "    </tr>\n",
       "    <tr>\n",
       "      <th>LEU1_TRNA</th>\n",
       "      <td>+</td>\n",
       "      <td>tcgataattaactattgacgaaaagctgaaaaccactagaatgcgc...</td>\n",
       "      <td>57</td>\n",
       "    </tr>\n",
       "  </tbody>\n",
       "</table>\n",
       "</div>"
      ],
      "text/plain": [
       "          Class                                           Sequence  \\\n",
       "Id                                                                   \n",
       "S10           +  tactagcaatacgcttgcgttcggtggttaagtatgtataatgcgc...   \n",
       "AMPC          +  tgctatcctgacagttgtcacgctgattggtgtcgttacaatctaa...   \n",
       "AROH          +  gtactagagaactagtgcattagcttatttttttgttatcatgcta...   \n",
       "DEOP2         +  aattgtgatgtgtatcgaagtgtgttgcggagtagatgttagaata...   \n",
       "LEU1_TRNA     +  tcgataattaactattgacgaaaagctgaaaaccactagaatgcgc...   \n",
       "\n",
       "           SequenceLen  \n",
       "Id                      \n",
       "S10                 57  \n",
       "AMPC                57  \n",
       "AROH                57  \n",
       "DEOP2               57  \n",
       "LEU1_TRNA           57  "
      ]
     },
     "execution_count": 27,
     "metadata": {},
     "output_type": "execute_result"
    }
   ],
   "source": [
    "data.head()"
   ]
  },
  {
   "cell_type": "code",
   "execution_count": 15,
   "metadata": {},
   "outputs": [
    {
     "data": {
      "text/plain": [
       "106"
      ]
     },
     "execution_count": 15,
     "metadata": {},
     "output_type": "execute_result"
    }
   ],
   "source": [
    "len(data)"
   ]
  },
  {
   "cell_type": "code",
   "execution_count": 10,
   "metadata": {},
   "outputs": [
    {
     "data": {
      "text/plain": [
       " 217         1\n",
       " 244         1\n",
       " 630         1\n",
       "RPOB         1\n",
       "RRNX_P1      1\n",
       "            ..\n",
       "ILVGEDA      1\n",
       "RRNG_P1      1\n",
       "1384         1\n",
       "BIOA         1\n",
       "LEU1_TRNA    1\n",
       "Name: id, Length: 106, dtype: int64"
      ]
     },
     "execution_count": 10,
     "metadata": {},
     "output_type": "execute_result"
    }
   ],
   "source": [
    "data.id.value_counts()"
   ]
  },
  {
   "cell_type": "code",
   "execution_count": null,
   "metadata": {},
   "outputs": [],
   "source": []
  }
 ],
 "metadata": {
  "kernelspec": {
   "display_name": "Python 3",
   "language": "python",
   "name": "python3"
  },
  "language_info": {
   "codemirror_mode": {
    "name": "ipython",
    "version": 3
   },
   "file_extension": ".py",
   "mimetype": "text/x-python",
   "name": "python",
   "nbconvert_exporter": "python",
   "pygments_lexer": "ipython3",
   "version": "3.7.3"
  }
 },
 "nbformat": 4,
 "nbformat_minor": 2
}
